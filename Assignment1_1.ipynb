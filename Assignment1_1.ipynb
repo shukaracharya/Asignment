{
  "nbformat": 4,
  "nbformat_minor": 0,
  "metadata": {
    "colab": {
      "provenance": [],
      "authorship_tag": "ABX9TyMxws9WA9+529LKyzsdG9HB",
      "include_colab_link": true
    },
    "kernelspec": {
      "name": "python3",
      "display_name": "Python 3"
    },
    "language_info": {
      "name": "python"
    }
  },
  "cells": [
    {
      "cell_type": "markdown",
      "metadata": {
        "id": "view-in-github",
        "colab_type": "text"
      },
      "source": [
        "<a href=\"https://colab.research.google.com/github/shukaracharya/Asignment/blob/main/Assignment1_1.ipynb\" target=\"_parent\"><img src=\"https://colab.research.google.com/assets/colab-badge.svg\" alt=\"Open In Colab\"/></a>"
      ]
    },
    {
      "cell_type": "markdown",
      "source": [
        "Python Question for Interview Preparation\n",
        "1.What is the difference between lists and tuples?\n",
        "2.  Explain Inheritance in Python with an example?\n",
        "3.  What is a dictionary in Python?\n",
        "4. What are functions in Python?\n",
        "5. What are the common built-in data types in Python?\n",
        "6.  What are local variables and global variables in Python?\n",
        "7.  How does break, continue, and pass work?\n",
        "8.What does *args and **kwargs mean?\n",
        "9.  What is the difference between / and // operator in Python?\n",
        "10. What are the applications of Python?\n",
        "11.  What is an operator in Python?\n",
        "12. What is lambda function in Python?\n",
        "13. What is type conversion in Python?\n",
        "14. What Is the Nested If statement?\n",
        "15. what are the Loops In Python?\n",
        "16.How For Loop Works? \n",
        "17.Diffrence Between if else, And If. elif else ?\n",
        "18.What Are The Conditional Statement?\n",
        "19.what are Function Arguments?\n",
        "20.what Do You Mean By Return ?\n",
        "\n"
      ],
      "metadata": {
        "id": "8Fmyb_eNGdlF"
      }
    }
  ]
}