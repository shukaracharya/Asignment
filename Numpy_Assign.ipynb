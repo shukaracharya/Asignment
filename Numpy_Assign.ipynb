{
  "nbformat": 4,
  "nbformat_minor": 0,
  "metadata": {
    "colab": {
      "provenance": [],
      "authorship_tag": "ABX9TyM+BCVLItEcFkVaZi1iEAIG",
      "include_colab_link": true
    },
    "kernelspec": {
      "name": "python3",
      "display_name": "Python 3"
    },
    "language_info": {
      "name": "python"
    }
  },
  "cells": [
    {
      "cell_type": "markdown",
      "metadata": {
        "id": "view-in-github",
        "colab_type": "text"
      },
      "source": [
        "<a href=\"https://colab.research.google.com/github/shukaracharya/Asignment/blob/main/Numpy_Assign.ipynb\" target=\"_parent\"><img src=\"https://colab.research.google.com/assets/colab-badge.svg\" alt=\"Open In Colab\"/></a>"
      ]
    },
    {
      "cell_type": "code",
      "execution_count": 4,
      "metadata": {
        "colab": {
          "base_uri": "https://localhost:8080/"
        },
        "id": "pbr7CmbnEp-0",
        "outputId": "a9f2f51a-7e13-4d18-826b-419c486bc79d"
      },
      "outputs": [
        {
          "output_type": "stream",
          "name": "stdout",
          "text": [
            "[0. 0. 0. 0. 1. 0. 0. 0. 0. 0.]\n"
          ]
        }
      ],
      "source": [
        "############ Qustion 1 ################\n",
        "##########  Create a null vector of size 10 but the fifth value which is 1. #########\n",
        "import numpy as np\n",
        "x=np.zeros(10)\n",
        "x[4]=1\n",
        "print(x)\n"
      ]
    },
    {
      "cell_type": "code",
      "source": [
        "############ Qustion 2 ################\n",
        "######### Create a vector with values ranging from 10 to 49.############\n",
        "v= np.arange(10,49)\n",
        "print(v)"
      ],
      "metadata": {
        "colab": {
          "base_uri": "https://localhost:8080/"
        },
        "id": "_fGyfUMdFozR",
        "outputId": "28741601-2670-4bec-aced-0de1526e8f80"
      },
      "execution_count": 5,
      "outputs": [
        {
          "output_type": "stream",
          "name": "stdout",
          "text": [
            "[10 11 12 13 14 15 16 17 18 19 20 21 22 23 24 25 26 27 28 29 30 31 32 33\n",
            " 34 35 36 37 38 39 40 41 42 43 44 45 46 47 48]\n"
          ]
        }
      ]
    },
    {
      "cell_type": "code",
      "source": [
        "############ Qustion 3 ################\n",
        "########  Create a 3x3 matrix with values ranging from 0 to 8 ############\n",
        "c=np.arange(0, 9).reshape((3,3))\n",
        "print(c)"
      ],
      "metadata": {
        "colab": {
          "base_uri": "https://localhost:8080/"
        },
        "id": "y50y-ZTmGQ_y",
        "outputId": "f41f6bf6-470f-4f3d-b570-0a5282047262"
      },
      "execution_count": 10,
      "outputs": [
        {
          "output_type": "stream",
          "name": "stdout",
          "text": [
            "[[0 1 2]\n",
            " [3 4 5]\n",
            " [6 7 8]]\n"
          ]
        }
      ]
    },
    {
      "cell_type": "code",
      "source": [
        "############ Qustion 4 ################\n",
        "######## Find indices of non-zero elements from [1,2,0,0,4,0] ######\n",
        "b=np.array([1,2,0,0,4,0])\n",
        "c=np.nonzero(b)\n",
        "print(c)\n"
      ],
      "metadata": {
        "colab": {
          "base_uri": "https://localhost:8080/"
        },
        "id": "0_Uy6BP3Fo_j",
        "outputId": "540918bd-3f73-4e1b-c9f3-9a0a8d7c96aa"
      },
      "execution_count": 12,
      "outputs": [
        {
          "output_type": "stream",
          "name": "stdout",
          "text": [
            "(array([0, 1, 4]),)\n"
          ]
        }
      ]
    },
    {
      "cell_type": "code",
      "source": [
        "############ Qustion 5 ################\n",
        "########Create a 10x10 array with random values and find the minimum and maximum values. #######\n",
        "x=np.random.random((10,10))\n",
        "print(x)\n",
        "xmin=x.min()\n",
        "print(\"Minimum In Matrix = \", xmin)\n",
        "xmax=x.max()\n",
        "print(\"Maximum In Matrix = \", xmax)"
      ],
      "metadata": {
        "colab": {
          "base_uri": "https://localhost:8080/"
        },
        "id": "aB6kEaX-FpDo",
        "outputId": "e45c26ed-68e5-402a-8a35-40f043da3d09"
      },
      "execution_count": 28,
      "outputs": [
        {
          "output_type": "stream",
          "name": "stdout",
          "text": [
            "[[0.98146228 0.70758672 0.53804518 0.84058035 0.8347095  0.96183354\n",
            "  0.32948354 0.73353436 0.29011908 0.89262412]\n",
            " [0.52897504 0.94820848 0.11805031 0.39392962 0.14502157 0.72066886\n",
            "  0.41027121 0.84098394 0.7205817  0.03487028]\n",
            " [0.13816967 0.08010111 0.36917686 0.81651991 0.94563748 0.49733838\n",
            "  0.00763866 0.70542112 0.35337458 0.43885206]\n",
            " [0.91059701 0.50061982 0.29269678 0.86106396 0.76044134 0.56289347\n",
            "  0.12833133 0.63683617 0.80582177 0.56817871]\n",
            " [0.5033249  0.6191237  0.37191807 0.56593099 0.56598477 0.69490267\n",
            "  0.77491724 0.88580557 0.57993663 0.69372774]\n",
            " [0.54475483 0.82192712 0.30929857 0.08241009 0.66410621 0.17328234\n",
            "  0.18244582 0.51134037 0.42396376 0.34331671]\n",
            " [0.23655611 0.92013729 0.93017834 0.89812721 0.95855309 0.58954639\n",
            "  0.39941261 0.17993886 0.27728787 0.81987538]\n",
            " [0.12171348 0.98848954 0.42237626 0.26745728 0.10838731 0.64593465\n",
            "  0.80255287 0.02526645 0.28513316 0.78567463]\n",
            " [0.50667474 0.05856807 0.57132257 0.93956918 0.88759273 0.67146791\n",
            "  0.3591979  0.28497146 0.04475463 0.64598218]\n",
            " [0.60685115 0.55958132 0.19249088 0.34175453 0.78158201 0.33542861\n",
            "  0.74131801 0.33451665 0.55426889 0.4744663 ]]\n",
            "Minimum In Matrix =  0.007638656722627535\n",
            "Maximum In Matrix =  0.988489540709821\n"
          ]
        }
      ]
    },
    {
      "cell_type": "code",
      "source": [
        "############ Qustion 6 ################\n",
        "####### Create a random vector of size 30 and find the mean value. ########\n",
        "z=np.random.random(30)\n",
        "print(z)\n",
        "y=z.mean()\n",
        "print(\"Mean Value Of Vector =\",y)"
      ],
      "metadata": {
        "colab": {
          "base_uri": "https://localhost:8080/"
        },
        "id": "l2XVwxBLFpKV",
        "outputId": "1c3922b6-44b6-4293-b9f0-85973557722f"
      },
      "execution_count": 27,
      "outputs": [
        {
          "output_type": "stream",
          "name": "stdout",
          "text": [
            "[0.68872972 0.88304711 0.52314841 0.96562916 0.77987885 0.52203866\n",
            " 0.37680572 0.92792675 0.47736664 0.37365935 0.52892133 0.60980627\n",
            " 0.09168696 0.55267965 0.20318035 0.54364445 0.96163736 0.30929627\n",
            " 0.56916784 0.35168435 0.80702687 0.78848996 0.81948823 0.32526016\n",
            " 0.33213976 0.85949502 0.22641582 0.7137245  0.9057896  0.62065779]\n",
            "Mean Value Of Vector = 0.5879474301989579\n"
          ]
        }
      ]
    },
    {
      "cell_type": "code",
      "source": [],
      "metadata": {
        "id": "zw9fHdF5FpNj"
      },
      "execution_count": null,
      "outputs": []
    },
    {
      "cell_type": "code",
      "source": [],
      "metadata": {
        "id": "DPmOxyMmFpQk"
      },
      "execution_count": null,
      "outputs": []
    }
  ]
}