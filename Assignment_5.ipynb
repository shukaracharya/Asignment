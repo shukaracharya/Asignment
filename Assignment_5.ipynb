{
  "nbformat": 4,
  "nbformat_minor": 0,
  "metadata": {
    "colab": {
      "provenance": [],
      "authorship_tag": "ABX9TyMQoYz6/pS1pDpoukvUrxms",
      "include_colab_link": true
    },
    "kernelspec": {
      "name": "python3",
      "display_name": "Python 3"
    },
    "language_info": {
      "name": "python"
    }
  },
  "cells": [
    {
      "cell_type": "markdown",
      "metadata": {
        "id": "view-in-github",
        "colab_type": "text"
      },
      "source": [
        "<a href=\"https://colab.research.google.com/github/shukaracharya/Asignment/blob/main/Assignment_5.ipynb\" target=\"_parent\"><img src=\"https://colab.research.google.com/assets/colab-badge.svg\" alt=\"Open In Colab\"/></a>"
      ]
    },
    {
      "cell_type": "code",
      "execution_count": 5,
      "metadata": {
        "id": "D5JuS3Z7whKp"
      },
      "outputs": [],
      "source": [
        "##############  XML 1 - Find the Score #############\n",
        "#############   Method 1 ################\n",
        "import sys\n",
        "#import xml.etree.ElementTree as etree\n",
        "\n",
        "def get_attr_number(node):\n",
        "    return sum([len(ele.attrib) for ele in node.iter()])\n",
        "\n",
        "# if __name__ == '__main__':\n",
        "#     sys.stdin.readline()\n",
        "#     xml = sys.stdin.read()\n",
        "#     tree = etree.ElementTree(etree.fromstring(xml))\n",
        "#     root = tree.getroot()\n",
        "#     print(get_attr_number(root))"
      ]
    },
    {
      "cell_type": "code",
      "source": [
        "##############  XML 1 - Find the Score #############\n",
        "#############   Method 2 ################\n",
        "import sys\n",
        "#import xml.etree.ElementTree as etree\n",
        "def get_attr_number(node):\n",
        "    total_score = len(node.attrib)\n",
        "    lst = []\n",
        "    for child in node:\n",
        "        if len(child) <= 1:\n",
        "            total_score += len(child.attrib)\n",
        "        else:\n",
        "            for j in child:\n",
        "                total_score += len(j.attrib)         \n",
        "    return total_score\n",
        "\n",
        "# if __name__ == '__main__':\n",
        "#     sys.stdin.readline()\n",
        "#     xml = sys.stdin.read()\n",
        "#     tree = etree.ElementTree(etree.fromstring(xml))\n",
        "#     root = tree.getroot()\n",
        "#     print(get_attr_number(root))"
      ],
      "metadata": {
        "id": "ez6VOND4xmWv"
      },
      "execution_count": 6,
      "outputs": []
    },
    {
      "cell_type": "code",
      "source": [],
      "metadata": {
        "id": "RHnqNQEQxmeQ"
      },
      "execution_count": null,
      "outputs": []
    },
    {
      "cell_type": "code",
      "source": [],
      "metadata": {
        "id": "qOGFNg1TxmhS"
      },
      "execution_count": null,
      "outputs": []
    }
  ]
}