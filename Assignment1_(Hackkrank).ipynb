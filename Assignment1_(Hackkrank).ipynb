{
  "nbformat": 4,
  "nbformat_minor": 0,
  "metadata": {
    "colab": {
      "provenance": [],
      "authorship_tag": "ABX9TyM+dYuRHLwI2yQlAo8mzF1f",
      "include_colab_link": true
    },
    "kernelspec": {
      "name": "python3",
      "display_name": "Python 3"
    },
    "language_info": {
      "name": "python"
    }
  },
  "cells": [
    {
      "cell_type": "markdown",
      "metadata": {
        "id": "view-in-github",
        "colab_type": "text"
      },
      "source": [
        "<a href=\"https://colab.research.google.com/github/shukaracharya/Asignment/blob/main/Assignment1_(Hackkrank).ipynb\" target=\"_parent\"><img src=\"https://colab.research.google.com/assets/colab-badge.svg\" alt=\"Open In Colab\"/></a>"
      ]
    },
    {
      "cell_type": "code",
      "execution_count": 15,
      "metadata": {
        "colab": {
          "base_uri": "https://localhost:8080/"
        },
        "id": "QbAc0rvO0rhd",
        "outputId": "08b02f7b-7a50-4b16-ca8d-3aa94a8f3f9e"
      },
      "outputs": [
        {
          "output_type": "stream",
          "name": "stdout",
          "text": [
            "1\n",
            "pinku 65 57 58\n",
            "pinku\n",
            "60.00\n"
          ]
        }
      ],
      "source": [
        "######## Qustion 1 ############\n",
        "if __name__ == '__main__':\n",
        "    n = int(input())\n",
        "    student_marks = {}\n",
        "    for _ in range(n):\n",
        "        name, *line = input().split()\n",
        "        scores = list(map(float, line))\n",
        "        student_marks[name] = scores\n",
        "    query_name = input()\n",
        "print(\"%.02f\"%(sum(student_marks[query_name]) /3))"
      ]
    },
    {
      "cell_type": "code",
      "source": [
        "########### Qustion 2 ##########\n",
        "def split_and_join(line):\n",
        "    return '-'.join(line.split(' '))\n",
        "if __name__ == '__main__':\n",
        "    line = input()\n",
        "    result = split_and_join(line)\n",
        "    print(result)\n"
      ],
      "metadata": {
        "colab": {
          "base_uri": "https://localhost:8080/"
        },
        "id": "zOnVw_fE2fxL",
        "outputId": "6d79e997-60d3-4b4a-d925-58a1e64c15d0"
      },
      "execution_count": 9,
      "outputs": [
        {
          "output_type": "stream",
          "name": "stdout",
          "text": [
            "my name is bond\n",
            "my-name-is-bond\n"
          ]
        }
      ]
    },
    {
      "cell_type": "code",
      "source": [
        "########### Qustion 3 ##########\n",
        "n = int(input())\n",
        "a = set(map(int,input().split()))\n",
        "m = int(input())\n",
        "b = set(map(int,input().split()))\n",
        "x =a.intersection(b)\n",
        "print(len(x))\n",
        "\n"
      ],
      "metadata": {
        "colab": {
          "base_uri": "https://localhost:8080/"
        },
        "id": "4pShdPkq2f9z",
        "outputId": "998f3629-aefe-41f5-ba93-605de655acbf"
      },
      "execution_count": 11,
      "outputs": [
        {
          "output_type": "stream",
          "name": "stdout",
          "text": [
            "7\n",
            "45 49 78 65 23 12 32\n",
            "3\n",
            "45 62 67 32 99 89 51 56\n",
            "2\n"
          ]
        }
      ]
    },
    {
      "cell_type": "code",
      "source": [
        "########### Qustion 4 ##########\n",
        "if __name__ == '__main__':\n",
        "    n = int(input())\n",
        "    arr = map(int, input().split())\n",
        "    my_set = set(arr)\n",
        "my_list = list (my_set)\n",
        "my_list.sort()\n",
        "print(my_list[-2])\n"
      ],
      "metadata": {
        "colab": {
          "base_uri": "https://localhost:8080/"
        },
        "id": "3Qr-Qbg-2gAw",
        "outputId": "5e365bfc-61bb-4178-8f85-8bd248206388"
      },
      "execution_count": 13,
      "outputs": [
        {
          "output_type": "stream",
          "name": "stdout",
          "text": [
            "4\n",
            "45 65 89 56 45 \n",
            "65\n"
          ]
        }
      ]
    },
    {
      "cell_type": "code",
      "source": [
        "########### Qustion 5 ##########\n",
        "def swap_case(s):\n",
        "    result = []\n",
        "    for char in s:\n",
        "        if char.isupper():\n",
        "            result.append(char.lower())\n",
        "        else:\n",
        "            result.append(char.upper())\n",
        "    return \"\".join(result)\n",
        "\n",
        "if __name__ == '__main__':\n",
        "  s= input()\n",
        "  result= swap_case(s)\n",
        "  print(result)\n"
      ],
      "metadata": {
        "colab": {
          "base_uri": "https://localhost:8080/"
        },
        "id": "mae_rnUR2gDh",
        "outputId": "c1f8d6c4-3c07-45f4-b7d9-cb2cc2196223"
      },
      "execution_count": 20,
      "outputs": [
        {
          "output_type": "stream",
          "name": "stdout",
          "text": [
            "Pinku Bond\n",
            "pINKU bOND\n"
          ]
        }
      ]
    },
    {
      "cell_type": "code",
      "source": [
        "########### Qustion 6 ##########\n",
        "if __name__ == '__main__':\n",
        "    a = int(input())\n",
        "    b = int(input())\n",
        "    \n",
        "    print(a+b)\n",
        "    print(a-b)\n",
        "    print(a*b)\n"
      ],
      "metadata": {
        "colab": {
          "base_uri": "https://localhost:8080/"
        },
        "id": "MVbSUaNu2gGB",
        "outputId": "eed1965c-137c-4d00-ca05-57e0b9e5a1fd"
      },
      "execution_count": 22,
      "outputs": [
        {
          "output_type": "stream",
          "name": "stdout",
          "text": [
            "9\n",
            "6\n",
            "15\n",
            "3\n",
            "54\n"
          ]
        }
      ]
    },
    {
      "cell_type": "code",
      "source": [
        "########### Qustion 7 ##########\n",
        "if __name__ == '__main__':\n",
        "    a = int(input())\n",
        "    b = int(input())\n",
        "    print(a/b)\n",
        "    print(a//b)\n"
      ],
      "metadata": {
        "colab": {
          "base_uri": "https://localhost:8080/"
        },
        "id": "Gqem7ojc2gIg",
        "outputId": "1932eeab-9036-4853-bfe1-cdf4fa142633"
      },
      "execution_count": 23,
      "outputs": [
        {
          "output_type": "stream",
          "name": "stdout",
          "text": [
            "5\n",
            "5\n",
            "1.0\n",
            "1\n"
          ]
        }
      ]
    },
    {
      "cell_type": "code",
      "source": [
        "########### Qustion 8 ##########\n",
        "if __name__ == '__main__':\n",
        "    n = int(input().strip())\n",
        "if 1 <= n <= 100:\n",
        "    if n % 2 == 0 and (n in range(2, 6) or n > 20):\n",
        "        print('Not Weird')\n",
        "    else:\n",
        "        print('Weird')\n"
      ],
      "metadata": {
        "colab": {
          "base_uri": "https://localhost:8080/"
        },
        "id": "wzzSSwQZ2gLC",
        "outputId": "d40d9cff-f038-489d-9e59-93ca900b3ece"
      },
      "execution_count": 24,
      "outputs": [
        {
          "output_type": "stream",
          "name": "stdout",
          "text": [
            "45\n",
            "Weird\n"
          ]
        }
      ]
    },
    {
      "cell_type": "code",
      "source": [
        "########### Qustion 9 ##########\n",
        "Result =[]\n",
        "scorelist = []\n",
        "if __name__ == '__main__':\n",
        "    for _ in range(int(input())):\n",
        "        name = input()\n",
        "        score = float(input())\n",
        "        Result+=[[name,score]]\n",
        "        scorelist+=[score]\n",
        "    b=sorted(list(set(scorelist)))[1] \n",
        "    for a,c in sorted(Result):\n",
        "        if c==b:\n",
        "            print(a)\n"
      ],
      "metadata": {
        "colab": {
          "base_uri": "https://localhost:8080/"
        },
        "id": "JxgtZTsc2gNx",
        "outputId": "becfb332-170c-4f54-9581-c970c62b21c7"
      },
      "execution_count": 27,
      "outputs": [
        {
          "output_type": "stream",
          "name": "stdout",
          "text": [
            "2\n",
            "pinku\n",
            "885\n",
            "rinku\n",
            "965\n",
            "rinku\n"
          ]
        }
      ]
    },
    {
      "cell_type": "code",
      "source": [
        "########### Qustion 10 ##########\n",
        "\n",
        "if __name__ == '__main__':\n",
        "    n = int(input())\n",
        "    \n",
        "    for i in range(n):\n",
        "        print(i**2)"
      ],
      "metadata": {
        "colab": {
          "base_uri": "https://localhost:8080/"
        },
        "id": "FZc5-4TY3dCy",
        "outputId": "045c4945-4eca-480d-ec45-95882085ce64"
      },
      "execution_count": 29,
      "outputs": [
        {
          "output_type": "stream",
          "name": "stdout",
          "text": [
            "3\n",
            "0\n",
            "1\n",
            "4\n"
          ]
        }
      ]
    },
    {
      "cell_type": "code",
      "source": [
        "########### Qustion 11 ##########\n",
        "def is_leap(year):\n",
        "    leap = False\n",
        "    # Write your logic here\n",
        "    if year > 1900:\n",
        "        if year % 4 == 0:\n",
        "            if year % 100 == 0:\n",
        "                if year % 400 == 0:\n",
        "                    leap = True;\n",
        "                else:\n",
        "                  leap= False\n",
        "            else:\n",
        "                leap= True\n",
        "        else:\n",
        "          leap= False\n",
        "    return leap\n",
        "\n",
        "year = int(input())\n",
        "print(is_leap(year))\n"
      ],
      "metadata": {
        "colab": {
          "base_uri": "https://localhost:8080/"
        },
        "id": "sU3TsvdQWT5Z",
        "outputId": "528cd73a-e978-4b75-9c87-0d5a8c33120c"
      },
      "execution_count": 35,
      "outputs": [
        {
          "output_type": "stream",
          "name": "stdout",
          "text": [
            "2012\n",
            "True\n"
          ]
        }
      ]
    },
    {
      "cell_type": "code",
      "source": [
        "########### Qustion 12 ##########\n",
        "def count_substring(string, sub_string):\n",
        "    occurs = 0\n",
        "    x = 0\n",
        "    for i in range(len(string)):\n",
        "        x = string.find(sub_string, x, len(string))\n",
        "        if x >= 0:\n",
        "            occurs += 1\n",
        "            x += 1\n",
        "    return occurs\n",
        "if __name__ == '__main__':\n",
        "    string = input().strip()\n",
        "    sub_string = input().strip()\n",
        "    \n",
        "    count = count_substring(string, sub_string)\n",
        "    print(count)\n"
      ],
      "metadata": {
        "colab": {
          "base_uri": "https://localhost:8080/"
        },
        "id": "r7Im8MP1WT9W",
        "outputId": "52d991f0-651c-488e-cd83-1be71dbabf3d"
      },
      "execution_count": 37,
      "outputs": [
        {
          "output_type": "stream",
          "name": "stdout",
          "text": [
            "we woo wofff weeew wwooow ffoo\n",
            "weee dooo wofff weeew wwooo ffoo\n",
            "0\n"
          ]
        }
      ]
    },
    {
      "cell_type": "code",
      "source": [
        "########### Qustion 13 ##########\n",
        "if __name__ == '__main__':\n",
        "    N = int(input())\n",
        "    lst = []\n",
        "    for _ in range(N):\n",
        "    \n",
        "        instruction = input().split()\n",
        "        if instruction[0] == 'insert':\n",
        "            lst.insert(int(instruction[1]), int(instruction[2]))\n",
        "                \n",
        "        elif instruction[0] == 'print':\n",
        "            print(lst)\n",
        "         \n",
        "        elif instruction[0] == 'remove':\n",
        "            # print(instruction)\n",
        "            # print(lst)\n",
        "            lst.remove(int(instruction[1]))\n",
        "        \n",
        "        elif instruction[0] == 'append':\n",
        "            lst.append(int(instruction[1]))\n",
        "            \n",
        "        elif instruction[0] == 'sort':\n",
        "            lst.sort()\n",
        "            \n",
        "        elif instruction[0] == 'pop':\n",
        "            lst.pop()\n",
        "            \n",
        "        elif instruction[0] == 'reverse':\n",
        "            lst.reverse()\n",
        "        print(lst)"
      ],
      "metadata": {
        "colab": {
          "base_uri": "https://localhost:8080/"
        },
        "id": "p4jGe5_lWUAY",
        "outputId": "96037180-26a3-4ef9-acd3-a4e0994e3f61"
      },
      "execution_count": 40,
      "outputs": [
        {
          "output_type": "stream",
          "name": "stdout",
          "text": [
            "2\n",
            "45 46 47 \n",
            "[]\n",
            "457412\n",
            "[]\n"
          ]
        }
      ]
    },
    {
      "cell_type": "code",
      "source": [
        "########### Qustion 10 ##########\n",
        "\n"
      ],
      "metadata": {
        "id": "FHt7XBs3WUDW"
      },
      "execution_count": null,
      "outputs": []
    },
    {
      "cell_type": "code",
      "source": [],
      "metadata": {
        "id": "IAtxCNiCWUGJ"
      },
      "execution_count": null,
      "outputs": []
    }
  ]
}