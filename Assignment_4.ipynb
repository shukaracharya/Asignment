{
  "nbformat": 4,
  "nbformat_minor": 0,
  "metadata": {
    "colab": {
      "provenance": [],
      "authorship_tag": "ABX9TyNVirQFK2z9ILJs3AvAaSC+",
      "include_colab_link": true
    },
    "kernelspec": {
      "name": "python3",
      "display_name": "Python 3"
    },
    "language_info": {
      "name": "python"
    }
  },
  "cells": [
    {
      "cell_type": "markdown",
      "metadata": {
        "id": "view-in-github",
        "colab_type": "text"
      },
      "source": [
        "<a href=\"https://colab.research.google.com/github/shukaracharya/Asignment/blob/main/Assignment_4.ipynb\" target=\"_parent\"><img src=\"https://colab.research.google.com/assets/colab-badge.svg\" alt=\"Open In Colab\"/></a>"
      ]
    },
    {
      "cell_type": "code",
      "execution_count": 4,
      "metadata": {
        "colab": {
          "base_uri": "https://localhost:8080/"
        },
        "id": "XNGuRjkctPft",
        "outputId": "eacfbbc5-d151-4bbb-d117-6db7acbb7510"
      },
      "outputs": [
        {
          "output_type": "stream",
          "name": "stdout",
          "text": [
            "3 5\n",
            "9 8\n",
            "12.00+13.00i\n",
            "-6.00-3.00i\n",
            "-13.00+69.00i\n",
            "0.46+0.14i\n",
            "5.83+0.00i\n",
            "12.04+0.00i\n"
          ]
        }
      ],
      "source": [
        "\n",
        "import math\n",
        "\n",
        "class Complex(object):\n",
        "    def __init__(self, real, imaginary):\n",
        "        self.real = real\n",
        "        self.imaginary = imaginary\n",
        "        \n",
        "    def __add__(self, no):\n",
        "        return Complex(self.real + no.real , self.imaginary + no.imaginary)\n",
        "        \n",
        "    def __sub__(self, no):\n",
        "        return Complex(self.real - no.real , self.imaginary - no.imaginary)       \n",
        "        \n",
        "    def __mul__(self, no):\n",
        "        prod = complex(self.real , self.imaginary)*complex(no.real , no.imaginary)\n",
        "        return Complex(prod.real , prod.imag)\n",
        "\n",
        "    def __truediv__(self, no):\n",
        "        div = complex(self.real , self.imaginary)/complex(no.real , no.imaginary)\n",
        "        return Complex(div.real , div.imag)\n",
        "\n",
        "    def mod(self):\n",
        "        m = math.sqrt(self.real**2 + self.imaginary**2)\n",
        "        return Complex(m,0)\n",
        "\n",
        "    def __str__(self):\n",
        "        if self.imaginary == 0:\n",
        "            result = \"%.2f+0.00i\" % (self.real)\n",
        "        elif self.real == 0:\n",
        "            if self.imaginary >= 0:\n",
        "                result = \"0.00+%.2fi\" % (self.imaginary)\n",
        "            else:\n",
        "                result = \"0.00-%.2fi\" % (abs(self.imaginary))\n",
        "        elif self.imaginary > 0:\n",
        "            result = \"%.2f+%.2fi\" % (self.real, self.imaginary)\n",
        "        else:\n",
        "            result = \"%.2f-%.2fi\" % (self.real, abs(self.imaginary))\n",
        "        return result\n",
        "\n",
        "if __name__ == '__main__':\n",
        "    c = map(float, input().split())\n",
        "    d = map(float, input().split())\n",
        "    x = Complex(*c)\n",
        "    y = Complex(*d)\n",
        "    print(*map(str, [x+y, x-y, x*y, x/y, x.mod(), y.mod()]), sep='\\n')"
      ]
    }
  ]
}